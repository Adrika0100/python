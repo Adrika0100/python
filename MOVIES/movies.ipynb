{
  "cells": [
    {
      "cell_type": "code",
      "execution_count": 1,
      "metadata": {
        "colab": {
          "base_uri": "https://localhost:8080/"
        },
        "id": "liBV0K9vpz0e",
        "outputId": "65c3a5bb-6f65-47f6-b8f8-3ae7b574ff5e"
      },
      "outputs": [
        {
          "name": "stdout",
          "output_type": "stream",
          "text": [
            "Top 10 Movies (Pandas):\n",
            "                                                    Average Rating   \n",
            "title                                                                \n",
            "Gentlemen of Fortune (Dzhentlmeny udachi) (1972)               5.0  \\\n",
            "Interstate 60 (2002)                                           5.0   \n",
            "Memories (Memorîzu) (1995)                                     5.0   \n",
            "Nobody Knows (Dare mo shiranai) (2004)                         5.0   \n",
            "Resident Evil: Retribution (2012)                              5.0   \n",
            "Schizopolis (1996)                                             5.0   \n",
            "Wings (1927)                                                   5.0   \n",
            "21 Up (1977)                                                   5.0   \n",
            "50 Children: The Rescue Mission of Mr. And Mrs....             5.0   \n",
            "Air (2015)                                                     5.0   \n",
            "\n",
            "                                                    Number of Ratings  \n",
            "title                                                                  \n",
            "Gentlemen of Fortune (Dzhentlmeny udachi) (1972)                    2  \n",
            "Interstate 60 (2002)                                                2  \n",
            "Memories (Memorîzu) (1995)                                          2  \n",
            "Nobody Knows (Dare mo shiranai) (2004)                              2  \n",
            "Resident Evil: Retribution (2012)                                   2  \n",
            "Schizopolis (1996)                                                  2  \n",
            "Wings (1927)                                                        2  \n",
            "21 Up (1977)                                                        1  \n",
            "50 Children: The Rescue Mission of Mr. And Mrs....                  1  \n",
            "Air (2015)                                                          1  \n",
            "\n",
            "Overall Average Rating : 3.5168503593161127\n",
            "Maximum Rating : 5.0\n"
          ]
        }
      ],
      "source": [
        "import numpy as np\n",
        "import pandas as pd\n",
        "\n",
        "# Load the data from CSV files\n",
        "movies = pd.read_csv('C:\\\\Users\\\\user\\\\Desktop\\\\movies\\\\movies.csv')\n",
        "ratings = pd.read_csv('C:\\\\Users\\\\user\\\\Desktop\\\\movies\\\\ratings.csv')\n",
        "\n",
        "# Merge the data based on 'movieId'\n",
        "movie_ratings = pd.merge(ratings, movies, on='movieId')\n",
        "\n",
        "# Calculate average ratings for each movie\n",
        "average_ratings = movie_ratings.groupby('title')['rating'].mean()\n",
        "\n",
        "# Calculate the number of ratings for each movie\n",
        "num_ratings = movie_ratings.groupby('title')['rating'].count()\n",
        "\n",
        "# Create a DataFrame combining average rating and number of ratings \n",
        "movie_info = pd.DataFrame({'Average Rating': average_ratings, 'Number of Ratings': num_ratings})\n",
        "\n",
        "# Sort the movies based on average rating and number of ratings \n",
        "top_rated_movies = movie_info.sort_values(by=['Average Rating', 'Number of Ratings'], ascending=False)\n",
        "\n",
        "# Display the top-rated movies\n",
        "print(\"Top 10 Movies (Pandas):\")\n",
        "print(top_rated_movies.head(10))\n",
        "\n",
        "# perform some calculations\n",
        "average_rating_numpy = np.mean(ratings['rating'])  # Calculate the overall average rating \n",
        "max_rating_numpy = np.max(ratings['rating'])      # Find the maximum rating \n",
        "\n",
        "print(\"\\nOverall Average Rating :\", average_rating_numpy)\n",
        "print(\"Maximum Rating :\", max_rating_numpy)"
      ]
    }
  ],
  "metadata": {
    "colab": {
      "provenance": []
    },
    "kernelspec": {
      "display_name": "Python 3",
      "name": "python3"
    },
    "language_info": {
      "codemirror_mode": {
        "name": "ipython",
        "version": 3
      },
      "file_extension": ".py",
      "mimetype": "text/x-python",
      "name": "python",
      "nbconvert_exporter": "python",
      "pygments_lexer": "ipython3",
      "version": "3.11.3"
    }
  },
  "nbformat": 4,
  "nbformat_minor": 0
}
